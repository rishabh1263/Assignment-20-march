{
 "cells": [
  {
   "cell_type": "markdown",
   "id": "ecc814b3",
   "metadata": {},
   "source": [
    "##Q1:\n",
    "Encoding is the process of converting the data or a given sequence of characters, symbols, alphabets etc., into a specified format, for the secured transmission of data. Decoding is the reverse process of encoding which is to extract the information from the converted format.\n"
   ]
  },
  {
   "cell_type": "markdown",
   "id": "d7164961",
   "metadata": {},
   "source": [
    "Q2:\n",
    "Nominal Encoding\n",
    "When we have a feature where variables are just names and there is no order or rank to this variable's feature. For example: City of person lives in, Gender of person, Marital Status, etc… In the above example, We do not have any order or rank, or sequence."
   ]
  },
  {
   "cell_type": "markdown",
   "id": "8598cbea",
   "metadata": {},
   "source": [
    "Q3:\n",
    "be used in such a case?\n",
    "When the number of categories in the dataset is quite large. One Hot Encoding should be avoided in this case as it can lead to high memory consumption."
   ]
  },
  {
   "cell_type": "markdown",
   "id": "7680b1f6",
   "metadata": {},
   "source": [
    "Q4:\n",
    "    Another approach to encoding categorical values is to use a technique called label encoding. Label encoding is simply converting each value in a column to a number. For example, the body_style column contains 5 different values."
   ]
  },
  {
   "cell_type": "markdown",
   "id": "1f84c5df",
   "metadata": {},
   "source": [
    "Q5:\n",
    "    \n",
    "\n",
    "Nominal encoding is a method of transforming categorical data into numerical data so that machine learning algorithms can use it. One common way of nominal encoding is one-hot encoding.\n",
    "\n",
    "In one-hot encoding, for each unique value in a categorical column, a new binary column is created. For example, if a categorical column has three unique values, then three new columns will be created, each representing one of the values. The value will be indicated by a 1 in the corresponding column and 0s in all the other columns.\n",
    "\n",
    "So, if there are two categorical columns in a dataset, and the number of unique values in the first column is n and in the second column is m, then the number of new columns created will be n+m.\n",
    "\n",
    "In this case, there are two categorical columns and we don't know the number of unique values in each column. So, let's assume that the first categorical column has n unique values, and the second categorical column has m unique values.\n",
    "\n",
    "Therefore, the number of new columns created by nominal encoding will be n+m. Since there are two categorical columns, we can represent this as 2*(n+m).\n",
    "\n",
    "So, to find the total number of new columns created by nominal encoding, we need to know the number of unique values in each categorical column.\n",
    "\n",
    "In general, it is good practice to perform nominal encoding only after analyzing the data and understanding the nature of the categorical variables. The number of unique values in each categorical column can be found using the `nunique()` method in pandas or by visualizing the data using plots."
   ]
  },
  {
   "cell_type": "markdown",
   "id": "07c14093",
   "metadata": {},
   "source": [
    "Q6:\n",
    "To transform categorical data into a format suitable for machine learning algorithms, there are several encoding techniques available, such as nominal, ordinal, and binary encoding, among others. \n",
    "\n",
    "The choice of encoding technique depends on the nature of the data and the requirements of the machine learning algorithm. \n",
    "\n",
    "In the case of a dataset containing information about different types of animals, including their species, habitat, and diet, I would use nominal encoding, specifically one-hot encoding.\n",
    "\n",
    "The reason for this is that nominal encoding is the most suitable for transforming categorical data when the categories have no inherent order or hierarchy. In the case of animals, the species, habitat, and diet are categories that have no inherent order or hierarchy.\n",
    "\n",
    "One-hot encoding, which is a type of nominal encoding, will create new binary columns for each unique value in each categorical column. This will allow the machine learning algorithm to treat each category as a separate feature, which is important when working with non-ordinal categorical data. \n",
    "\n",
    "Overall, nominal encoding, specifically one-hot encoding, is the most suitable technique for transforming the categorical data in this animal dataset."
   ]
  },
  {
   "cell_type": "markdown",
   "id": "db9ad58e",
   "metadata": {},
   "source": [
    "Q7:\n",
    "Nominal Encoding for Gender Feature\n",
    "For contract type Ordinal Encoding"
   ]
  }
 ],
 "metadata": {
  "kernelspec": {
   "display_name": "Python 3 (ipykernel)",
   "language": "python",
   "name": "python3"
  },
  "language_info": {
   "codemirror_mode": {
    "name": "ipython",
    "version": 3
   },
   "file_extension": ".py",
   "mimetype": "text/x-python",
   "name": "python",
   "nbconvert_exporter": "python",
   "pygments_lexer": "ipython3",
   "version": "3.9.13"
  }
 },
 "nbformat": 4,
 "nbformat_minor": 5
}
